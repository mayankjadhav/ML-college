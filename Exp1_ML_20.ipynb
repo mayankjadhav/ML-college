{
  "nbformat": 4,
  "nbformat_minor": 0,
  "metadata": {
    "colab": {
      "provenance": []
    },
    "kernelspec": {
      "name": "python3",
      "display_name": "Python 3"
    },
    "language_info": {
      "name": "python"
    }
  },
  "cells": [
    {
      "cell_type": "code",
      "execution_count": 1,
      "metadata": {
        "colab": {
          "base_uri": "https://localhost:8080/"
        },
        "id": "h4pBJBq1GP-S",
        "outputId": "0a0c40d6-e78a-4fa8-83fc-e32b9301f547"
      },
      "outputs": [
        {
          "output_type": "stream",
          "name": "stdout",
          "text": [
            "Enter a Number:45\n",
            "Enter second number:45\n",
            "Its 45\n"
          ]
        }
      ],
      "source": [
        "x=int(input(\"Enter a Number:\"))\n",
        "y=int(input(\"Enter second number:\"))\n",
        "if(x==45):\n",
        "            print(\"Its 45\")\n",
        "else:\n",
        "            print(x+y)\n",
        "            \n",
        "            \n",
        "            "
      ]
    },
    {
      "cell_type": "code",
      "source": [
        "x=10\n",
        "\n"
      ],
      "metadata": {
        "id": "6H1MvQjFG391"
      },
      "execution_count": 4,
      "outputs": []
    },
    {
      "cell_type": "code",
      "source": [
        "type(x)\n",
        "\n",
        "int"
      ],
      "metadata": {
        "colab": {
          "base_uri": "https://localhost:8080/"
        },
        "id": "NCdO1DTQHeA8",
        "outputId": "12897d42-72e6-43f1-c4e5-2b5a20cabdae"
      },
      "execution_count": 5,
      "outputs": [
        {
          "output_type": "execute_result",
          "data": {
            "text/plain": [
              "int"
            ]
          },
          "metadata": {},
          "execution_count": 5
        }
      ]
    },
    {
      "cell_type": "code",
      "source": [
        "p=[10,12,14,16,18]\n",
        "p\n",
        "\n",
        "    \n"
      ],
      "metadata": {
        "colab": {
          "base_uri": "https://localhost:8080/"
        },
        "id": "lTEezFMcHiCE",
        "outputId": "553a08d0-0a6f-47f2-ad7c-6b61b5025b76"
      },
      "execution_count": 7,
      "outputs": [
        {
          "output_type": "execute_result",
          "data": {
            "text/plain": [
              "[10, 12, 14, 16, 18]"
            ]
          },
          "metadata": {},
          "execution_count": 7
        }
      ]
    },
    {
      "cell_type": "code",
      "source": [
        "p.insert(2,25)"
      ],
      "metadata": {
        "id": "wr289LgHHvBI"
      },
      "execution_count": 8,
      "outputs": []
    },
    {
      "cell_type": "code",
      "source": [
        "p"
      ],
      "metadata": {
        "colab": {
          "base_uri": "https://localhost:8080/"
        },
        "id": "jd2upUUWH6Vz",
        "outputId": "2c0406b8-a978-4276-ed7e-5e8aca19630b"
      },
      "execution_count": 9,
      "outputs": [
        {
          "output_type": "execute_result",
          "data": {
            "text/plain": [
              "[10, 12, 25, 14, 16, 18]"
            ]
          },
          "metadata": {},
          "execution_count": 9
        }
      ]
    },
    {
      "cell_type": "code",
      "source": [
        "y=[10,2,3,4,5,6,[4,5,6,],7]"
      ],
      "metadata": {
        "id": "XquXVPlfH7CD"
      },
      "execution_count": 10,
      "outputs": []
    },
    {
      "cell_type": "code",
      "source": [
        "y"
      ],
      "metadata": {
        "colab": {
          "base_uri": "https://localhost:8080/"
        },
        "id": "zzMT7YEFIELD",
        "outputId": "dc50526b-f328-428e-87c0-0cd7442b46e6"
      },
      "execution_count": 11,
      "outputs": [
        {
          "output_type": "execute_result",
          "data": {
            "text/plain": [
              "[10, 2, 3, 4, 5, 6, [4, 5, 6], 7]"
            ]
          },
          "metadata": {},
          "execution_count": 11
        }
      ]
    },
    {
      "cell_type": "code",
      "source": [
        "d2={12:\"hello\",(1,2,3,4):[4,5,6,7]}"
      ],
      "metadata": {
        "id": "CA0NfEpLIE80"
      },
      "execution_count": 12,
      "outputs": []
    },
    {
      "cell_type": "code",
      "source": [
        "d2[12]"
      ],
      "metadata": {
        "colab": {
          "base_uri": "https://localhost:8080/",
          "height": 35
        },
        "id": "3yc6CfNsIiSU",
        "outputId": "c9c76643-9e08-4123-bfd7-fe061ce0dcee"
      },
      "execution_count": 13,
      "outputs": [
        {
          "output_type": "execute_result",
          "data": {
            "text/plain": [
              "'hello'"
            ],
            "application/vnd.google.colaboratory.intrinsic+json": {
              "type": "string"
            }
          },
          "metadata": {},
          "execution_count": 13
        }
      ]
    },
    {
      "cell_type": "code",
      "source": [
        "x=input(\"Enter the User Name:\")\n",
        "y=input(\"Enter the Password:\")\n",
        "if(x==\"Mayank\") and (y==\"Hi\"):\n",
        "  print('Welcome')\n",
        "else:\n",
        "    print(\"Try Again\")"
      ],
      "metadata": {
        "colab": {
          "base_uri": "https://localhost:8080/"
        },
        "id": "sUxb0pX5Il60",
        "outputId": "5a8e1e05-4f89-4ba2-f091-26ad398a821f"
      },
      "execution_count": 15,
      "outputs": [
        {
          "output_type": "stream",
          "name": "stdout",
          "text": [
            "Enter the User Name:Mayank\n",
            "Enter the Password:Mayank\n",
            "Try Again\n"
          ]
        }
      ]
    },
    {
      "cell_type": "code",
      "source": [
        "x=input(\"Enter the User Name:\")\n",
        "\n",
        "if(x==\"Mayank\"):\n",
        "  y=input(\"Enter the Password:\")\n",
        "if(y==\"Mayank\"):\n",
        "  print(\"Welcome\")\n",
        "else:\n",
        "  print(\"Try Again\")  "
      ],
      "metadata": {
        "colab": {
          "base_uri": "https://localhost:8080/"
        },
        "id": "Hs5AkSCZJZ2j",
        "outputId": "5100e34d-0c24-4b30-d3a5-0f5f1295cd83"
      },
      "execution_count": 16,
      "outputs": [
        {
          "output_type": "stream",
          "name": "stdout",
          "text": [
            "Enter the User Name:Mayank\n",
            "Enter the Password:Mayank\n",
            "Welcome\n"
          ]
        }
      ]
    },
    {
      "cell_type": "code",
      "source": [
        "for i in range(10):\n",
        " print(i)\n"
      ],
      "metadata": {
        "colab": {
          "base_uri": "https://localhost:8080/"
        },
        "id": "5dUfMiuJKQ_1",
        "outputId": "f65f871f-f550-4748-c7f3-804f12e74e2c"
      },
      "execution_count": 17,
      "outputs": [
        {
          "output_type": "stream",
          "name": "stdout",
          "text": [
            "0\n",
            "1\n",
            "2\n",
            "3\n",
            "4\n",
            "5\n",
            "6\n",
            "7\n",
            "8\n",
            "9\n"
          ]
        }
      ]
    },
    {
      "cell_type": "code",
      "source": [
        "for i in range(1,10,2):\n",
        "  print(i)\n",
        "  "
      ],
      "metadata": {
        "colab": {
          "base_uri": "https://localhost:8080/"
        },
        "id": "L47f1GYmKcpj",
        "outputId": "00a510fa-9745-47b4-cb7a-002b291db94b"
      },
      "execution_count": 18,
      "outputs": [
        {
          "output_type": "stream",
          "name": "stdout",
          "text": [
            "1\n",
            "3\n",
            "5\n",
            "7\n",
            "9\n"
          ]
        }
      ]
    },
    {
      "cell_type": "code",
      "source": [
        "l=['Mayank','Dikshant','[Yash']\n",
        "for i in range(len(l)):\n",
        "  print(i)\n",
        "  "
      ],
      "metadata": {
        "colab": {
          "base_uri": "https://localhost:8080/"
        },
        "id": "JropDx5_KjvE",
        "outputId": "6029a4ea-7920-4704-bb63-65d930db8539"
      },
      "execution_count": 19,
      "outputs": [
        {
          "output_type": "stream",
          "name": "stdout",
          "text": [
            "0\n",
            "1\n",
            "2\n"
          ]
        }
      ]
    },
    {
      "cell_type": "code",
      "source": [
        " s=[]\n",
        " l=['Mayank','Dikshant','[Yash']\n",
        " for i in l:\n",
        "  print(str(len(i)),\":\",i)\n",
        "  s.append(len(i))\n",
        "  print(s)\n"
      ],
      "metadata": {
        "colab": {
          "base_uri": "https://localhost:8080/"
        },
        "id": "KdWDZeMbLB8z",
        "outputId": "61d3429a-9383-472f-d26f-93c6c5f871ab"
      },
      "execution_count": 24,
      "outputs": [
        {
          "output_type": "stream",
          "name": "stdout",
          "text": [
            "6 : Mayank\n",
            "[6]\n",
            "8 : Dikshant\n",
            "[6, 8]\n",
            "5 : [Yash\n",
            "[6, 8, 5]\n"
          ]
        }
      ]
    },
    {
      "cell_type": "code",
      "source": [
        "def name():\n",
        "  print('Mayank')\n",
        "  "
      ],
      "metadata": {
        "id": "dHzUnXiWLk9E"
      },
      "execution_count": 26,
      "outputs": []
    },
    {
      "cell_type": "code",
      "source": [
        "name()"
      ],
      "metadata": {
        "colab": {
          "base_uri": "https://localhost:8080/"
        },
        "id": "vGJo2BvUL9bF",
        "outputId": "001acac4-daf2-4d3f-ca0c-d2928f778ec8"
      },
      "execution_count": 27,
      "outputs": [
        {
          "output_type": "stream",
          "name": "stdout",
          "text": [
            "Mayank\n"
          ]
        }
      ]
    },
    {
      "cell_type": "code",
      "source": [
        "def name(x):\n",
        "  print('Mayank and',x)\n",
        "\n",
        "name('Dikshant')\n",
        "name('Yash')\n"
      ],
      "metadata": {
        "colab": {
          "base_uri": "https://localhost:8080/"
        },
        "id": "MK929XiCL_Xx",
        "outputId": "f55a8006-3866-48b7-dabd-f0f88ca512a0"
      },
      "execution_count": 28,
      "outputs": [
        {
          "output_type": "stream",
          "name": "stdout",
          "text": [
            "Mayank and Dikshant\n",
            "Mayank and Yash\n"
          ]
        }
      ]
    },
    {
      "cell_type": "code",
      "source": [
        "import numpy as np\n"
      ],
      "metadata": {
        "id": "VSbvdFO5MxCD"
      },
      "execution_count": 29,
      "outputs": []
    },
    {
      "cell_type": "code",
      "source": [
        "x=np.array([10,11,12,13])\n",
        "print(x)\n",
        "\n"
      ],
      "metadata": {
        "colab": {
          "base_uri": "https://localhost:8080/"
        },
        "id": "Jv1uG-T7NIdj",
        "outputId": "f094a17f-d309-4c5d-8431-27675c9f8546"
      },
      "execution_count": 31,
      "outputs": [
        {
          "output_type": "stream",
          "name": "stdout",
          "text": [
            "[10 11 12 13]\n"
          ]
        }
      ]
    },
    {
      "cell_type": "code",
      "source": [
        "x=np.array([[10,11,12,13],[14,15,16,17]])\n",
        "print(x)\n"
      ],
      "metadata": {
        "colab": {
          "base_uri": "https://localhost:8080/"
        },
        "id": "mcdqNf1RNocj",
        "outputId": "60f1df9d-e2fe-4b43-e0c0-eae838f27c1c"
      },
      "execution_count": 32,
      "outputs": [
        {
          "output_type": "stream",
          "name": "stdout",
          "text": [
            "[[10 11 12 13]\n",
            " [14 15 16 17]]\n"
          ]
        }
      ]
    },
    {
      "cell_type": "code",
      "source": [
        "print(x.ndim)\n"
      ],
      "metadata": {
        "colab": {
          "base_uri": "https://localhost:8080/"
        },
        "id": "OkFqmdz_N1gE",
        "outputId": "f7d8bcb2-3a4c-4d08-c297-45e3cf9a6425"
      },
      "execution_count": 33,
      "outputs": [
        {
          "output_type": "stream",
          "name": "stdout",
          "text": [
            "2\n"
          ]
        }
      ]
    },
    {
      "cell_type": "code",
      "source": [
        "x=np.array([[10,11,12,13],[14,15,16,17]])\n",
        "print(x.ndim)"
      ],
      "metadata": {
        "colab": {
          "base_uri": "https://localhost:8080/"
        },
        "id": "NIeI7YbVN6bz",
        "outputId": "eb7f4386-b05e-459f-c9ed-1eb7a9695ce5"
      },
      "execution_count": 34,
      "outputs": [
        {
          "output_type": "stream",
          "name": "stdout",
          "text": [
            "2\n"
          ]
        }
      ]
    },
    {
      "cell_type": "code",
      "source": [
        "print(x)\n",
        "print(x.sum())\n",
        "print(x.min())\n",
        "print(x.min())\n",
        "print(x.argmax())\n",
        "print(x.argmin())"
      ],
      "metadata": {
        "colab": {
          "base_uri": "https://localhost:8080/"
        },
        "id": "E9VA3Zo_OGwz",
        "outputId": "a151d192-e85c-4c32-f26d-17e4ea3987b1"
      },
      "execution_count": 35,
      "outputs": [
        {
          "output_type": "stream",
          "name": "stdout",
          "text": [
            "[[10 11 12 13]\n",
            " [14 15 16 17]]\n",
            "108\n",
            "10\n",
            "10\n",
            "7\n",
            "0\n"
          ]
        }
      ]
    },
    {
      "cell_type": "code",
      "source": [
        "x[0,0]"
      ],
      "metadata": {
        "colab": {
          "base_uri": "https://localhost:8080/"
        },
        "id": "bIAHlp26PRLE",
        "outputId": "93dc1116-2caf-4455-d808-fac533682152"
      },
      "execution_count": 36,
      "outputs": [
        {
          "output_type": "execute_result",
          "data": {
            "text/plain": [
              "10"
            ]
          },
          "metadata": {},
          "execution_count": 36
        }
      ]
    },
    {
      "cell_type": "code",
      "source": [
        "y=x[:,-1:]\n"
      ],
      "metadata": {
        "id": "RJMIFwFIQC3h"
      },
      "execution_count": 37,
      "outputs": []
    },
    {
      "cell_type": "code",
      "source": [
        "y"
      ],
      "metadata": {
        "colab": {
          "base_uri": "https://localhost:8080/"
        },
        "id": "X4xDZhdZQIxk",
        "outputId": "5fc457a8-57bf-4c8c-b387-7d03db396161"
      },
      "execution_count": 38,
      "outputs": [
        {
          "output_type": "execute_result",
          "data": {
            "text/plain": [
              "array([[13],\n",
              "       [17]])"
            ]
          },
          "metadata": {},
          "execution_count": 38
        }
      ]
    },
    {
      "cell_type": "code",
      "source": [
        "x.shape"
      ],
      "metadata": {
        "colab": {
          "base_uri": "https://localhost:8080/"
        },
        "id": "YnigQXeyQKAk",
        "outputId": "e79bec05-aeb7-4893-d7ac-1296eab00f08"
      },
      "execution_count": 40,
      "outputs": [
        {
          "output_type": "execute_result",
          "data": {
            "text/plain": [
              "(2, 4)"
            ]
          },
          "metadata": {},
          "execution_count": 40
        }
      ]
    },
    {
      "cell_type": "code",
      "source": [
        "b=x.reshape(4,2)"
      ],
      "metadata": {
        "id": "Vhi8mwXHRYJz"
      },
      "execution_count": 42,
      "outputs": []
    },
    {
      "cell_type": "code",
      "source": [
        "x.transpose()"
      ],
      "metadata": {
        "colab": {
          "base_uri": "https://localhost:8080/"
        },
        "id": "LjtPWOtjRb3D",
        "outputId": "6f319e0d-32f5-4685-f01e-bd719c7e8db2"
      },
      "execution_count": 43,
      "outputs": [
        {
          "output_type": "execute_result",
          "data": {
            "text/plain": [
              "array([[10, 14],\n",
              "       [11, 15],\n",
              "       [12, 16],\n",
              "       [13, 17]])"
            ]
          },
          "metadata": {},
          "execution_count": 43
        }
      ]
    },
    {
      "cell_type": "code",
      "source": [
        "a=0\n",
        "a=np.arange(16).reshape(4,4)\n"
      ],
      "metadata": {
        "id": "KfWlJcRZRkG0"
      },
      "execution_count": 44,
      "outputs": []
    },
    {
      "cell_type": "code",
      "source": [
        "a[1:3,:]"
      ],
      "metadata": {
        "colab": {
          "base_uri": "https://localhost:8080/"
        },
        "id": "TiakdS73R0ZT",
        "outputId": "a962de9c-718e-4e1b-a886-e046a893db3f"
      },
      "execution_count": 45,
      "outputs": [
        {
          "output_type": "execute_result",
          "data": {
            "text/plain": [
              "array([[ 4,  5,  6,  7],\n",
              "       [ 8,  9, 10, 11]])"
            ]
          },
          "metadata": {},
          "execution_count": 45
        }
      ]
    },
    {
      "cell_type": "code",
      "source": [
        "a = np.arange(18).reshape(3,3,2)                        "
      ],
      "metadata": {
        "id": "EgLFrRU3SFU0"
      },
      "execution_count": 54,
      "outputs": []
    },
    {
      "cell_type": "code",
      "source": [
        "a"
      ],
      "metadata": {
        "colab": {
          "base_uri": "https://localhost:8080/"
        },
        "id": "AUMen1BSSVAU",
        "outputId": "3a9e6897-00f7-4d1a-b0e2-4f797aa7e500"
      },
      "execution_count": 55,
      "outputs": [
        {
          "output_type": "execute_result",
          "data": {
            "text/plain": [
              "array([[[ 0,  1],\n",
              "        [ 2,  3],\n",
              "        [ 4,  5]],\n",
              "\n",
              "       [[ 6,  7],\n",
              "        [ 8,  9],\n",
              "        [10, 11]],\n",
              "\n",
              "       [[12, 13],\n",
              "        [14, 15],\n",
              "        [16, 17]]])"
            ]
          },
          "metadata": {},
          "execution_count": 55
        }
      ]
    },
    {
      "cell_type": "code",
      "source": [],
      "metadata": {
        "id": "WkwwM-ojS0pC"
      },
      "execution_count": null,
      "outputs": []
    }
  ]
}